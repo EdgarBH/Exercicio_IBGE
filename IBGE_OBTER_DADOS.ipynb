{
  "nbformat": 4,
  "nbformat_minor": 0,
  "metadata": {
    "colab": {
      "provenance": []
    },
    "kernelspec": {
      "name": "python3",
      "display_name": "Python 3"
    },
    "language_info": {
      "name": "python"
    }
  },
  "cells": [
    {
      "cell_type": "markdown",
      "source": [
        "## Imports!"
      ],
      "metadata": {
        "id": "Xq5VbzcnY8Kg"
      }
    },
    {
      "cell_type": "code",
      "source": [
        "!pip install pyspark"
      ],
      "metadata": {
        "colab": {
          "base_uri": "https://localhost:8080/"
        },
        "id": "APIH2xIPU1TW",
        "outputId": "6b9f54f3-4034-4ab0-bcce-4322feb5f78b"
      },
      "execution_count": 1,
      "outputs": [
        {
          "output_type": "stream",
          "name": "stdout",
          "text": [
            "Collecting pyspark\n",
            "  Downloading pyspark-3.5.0.tar.gz (316.9 MB)\n",
            "\u001b[2K     \u001b[90m━━━━━━━━━━━━━━━━━━━━━━━━━━━━━━━━━━━━━━━━\u001b[0m \u001b[32m316.9/316.9 MB\u001b[0m \u001b[31m2.4 MB/s\u001b[0m eta \u001b[36m0:00:00\u001b[0m\n",
            "\u001b[?25h  Preparing metadata (setup.py) ... \u001b[?25l\u001b[?25hdone\n",
            "Requirement already satisfied: py4j==0.10.9.7 in /usr/local/lib/python3.10/dist-packages (from pyspark) (0.10.9.7)\n",
            "Building wheels for collected packages: pyspark\n",
            "  Building wheel for pyspark (setup.py) ... \u001b[?25l\u001b[?25hdone\n",
            "  Created wheel for pyspark: filename=pyspark-3.5.0-py2.py3-none-any.whl size=317425345 sha256=7663d1ed58753c6e1aadcd3dcb7f9f213fcc99acc2e9b3435bc790b2da285d73\n",
            "  Stored in directory: /root/.cache/pip/wheels/41/4e/10/c2cf2467f71c678cfc8a6b9ac9241e5e44a01940da8fbb17fc\n",
            "Successfully built pyspark\n",
            "Installing collected packages: pyspark\n",
            "Successfully installed pyspark-3.5.0\n"
          ]
        }
      ]
    },
    {
      "cell_type": "code",
      "source": [
        "import requests\n",
        "import pandas as pd\n",
        "import numpy as np\n",
        "from pyspark.sql import SparkSession\n",
        "from pyspark.sql.functions import col, round\n",
        "from pyspark.sql.types import StructType, StructField, StringType, DoubleType, IntegerType, FloatType\n",
        "# from pyspark.sql.functions import col, round as spark_round\n",
        "\n",
        "import pprint\n",
        "import urllib.request\n",
        "import zipfile\n",
        "import os\n",
        "\n",
        "spark = SparkSession.builder.appName(\"desafio\").getOrCreate()"
      ],
      "metadata": {
        "id": "RbxoL2LpY_f4"
      },
      "execution_count": 2,
      "outputs": []
    },
    {
      "cell_type": "markdown",
      "source": [
        "## Obtenção dos dados de IDH da API"
      ],
      "metadata": {
        "id": "pP45C5IC-JjP"
      }
    },
    {
      "cell_type": "code",
      "source": [
        "# A priori trabalharemos só com os municípios do estado de São Paulo, (código 35)\n",
        "ufs=[35]# Deixaremos só São Paulo\n",
        "ufs\n",
        "\n",
        "# Criar um df em branco\n",
        "schema = StructType([\n",
        "    StructField(\"localidade\", StringType(), True),\n",
        "    StructField(\"idh_1991\", StringType(), True),\n",
        "    StructField(\"idh_2000\", StringType(), True),\n",
        "    StructField(\"idh_2010\", StringType(), True),\n",
        "])\n",
        "\n",
        "df_idh = spark.createDataFrame((), schema=schema)\n",
        "for uf in ufs:\n",
        "  link = 'https://servicodados.ibge.gov.br/api/v1/pesquisas/indicadores/30255/resultados/'+str(uf)+'xxxx'\n",
        "  print(link)\n",
        "  resp = requests.get(link)\n",
        "  if resp.status_code == 200:\n",
        "      data = resp.json()\n",
        "      # pprint.pprint(data)\n",
        "      for item in data[0]['res']:\n",
        "          df_idh = df_idh.union(\n",
        "              spark.createDataFrame([(item['localidade'],item['res']['1991'], item['res']['2000'], item['res']['2010'])],\n",
        "                                    schema=schema))\n",
        "  else:\n",
        "    print('Link não disponível')\n",
        "\n",
        "conv_a_flot = [\"idh_1991\", \"idh_2000\", \"idh_2010\"]\n",
        "for coluna in conv_a_flot:\n",
        "    df_idh = df_idh.withColumn(coluna, col(coluna).cast(FloatType()))\n",
        "\n",
        "#Criar porcentagem de mudança de IDH de 1991 para 2000\n",
        "df_idh = df_idh.withColumn('Mudanca_perc_1991_2000', ((col(\"idh_2000\") - col(\"idh_1991\")) / col(\"idh_1991\")) * 100) \\\n",
        "    .withColumn('Mudanca_perc_2000_2010', ((col(\"idh_2010\") - col(\"idh_2000\")) / col(\"idh_2000\")) * 100)\n",
        "\n",
        "#Criar porcentagem de mudança de IDH de 2000 para 2010\n",
        "df_idh = df_idh.withColumn('Mudanca_perc_1991_2000', round(col('Mudanca_perc_1991_2000'), 4)) \\\n",
        "    .withColumn('Mudanca_perc_2000_2010', round(col('Mudanca_perc_2000_2010'), 4))\n",
        "\n",
        "\n",
        "df_idh_pd=df_idh.toPandas()\n",
        "df_idh_pd.to_excel(\"df_idh.xlsx\")"
      ],
      "metadata": {
        "colab": {
          "base_uri": "https://localhost:8080/"
        },
        "id": "-jftdUDjkpDC",
        "outputId": "72f060e8-f032-4ba3-aa78-4692ad83d8d1"
      },
      "execution_count": 3,
      "outputs": [
        {
          "output_type": "stream",
          "name": "stdout",
          "text": [
            "https://servicodados.ibge.gov.br/api/v1/pesquisas/indicadores/30255/resultados/35xxxx\n"
          ]
        }
      ]
    },
    {
      "cell_type": "markdown",
      "source": [
        "O Índice de Desenvolvimento Humano (IDH) é calculado considerando 3 fatores principais: Saúde, Educação e Renda.\n",
        "Na Saúde, considera-se a expectativa de vida da população.\n",
        "Na Educação, considera-se o índice de alfabetização de adultos e a escolarização da população no geral.\n",
        "Na Renda considera-se o PIB per capita e a Paridade do Poder de Compra que refletem o padrão de vida da população.\n",
        "O IDH considera uma ponderação média entre esses 3 fatores, dando como resultado um índice único, categorizado da seguinte forma:\n",
        "\n",
        "IDH baixo: reúne todos os países que apresentam IDH abaixo de 0,500.\n",
        "IDH médio: países com IDH entre 0,500 e 0,799.\n",
        "IDH alto: países com desenvolvimento humano entre 0,800 e 0,899.\n",
        "IDH muito alto: países cujo índice encontra-se igual ou acima de 0,900.\"\n",
        "\n",
        "Observando os resultados, vemos que no geral, todos os municípios tiveram um aumento do IDH, indo em vários casos de baixo pra médio e de médio para alto."
      ],
      "metadata": {
        "id": "JnuK_M--H2Z0"
      }
    },
    {
      "cell_type": "code",
      "source": [],
      "metadata": {
        "id": "CU6vFDj2jZCi"
      },
      "execution_count": 3,
      "outputs": []
    },
    {
      "cell_type": "markdown",
      "source": [
        "# Obter códigos de 6 dígitos, 7 dígitos e população 2010 dos municípios de São Paulo.\n",
        "\n",
        "Várias tabelas disponibilizadas pelo IBGE tem códigos identificadores dos municípios usando 6 ou 7 dígitos, precisamos uma tabela para trazer essa informação."
      ],
      "metadata": {
        "id": "lotoRD4LgJTP"
      }
    },
    {
      "cell_type": "markdown",
      "source": [],
      "metadata": {
        "id": "WqpEYJkjKsFb"
      }
    },
    {
      "cell_type": "code",
      "source": [
        "# Criar um df em branco\n",
        "schema = StructType([\n",
        "    StructField(\"IBGE\", StringType(), True),\n",
        "    StructField(\"IBGE7\", StringType(), True),\n",
        "    StructField(\"UF\", StringType(), True),\n",
        "    StructField(\"Município\", StringType(), True),\n",
        "    StructField(\"pop_2010\", FloatType(), True),\n",
        "\n",
        "])\n",
        "\n",
        "df_populacao=pd.read_excel('http://blog.mds.gov.br/redesuas/wp-content/uploads/2018/06/Lista-de-Munic%C3%ADpios-com-IBGE-Brasil.xlsx')\n",
        "# df_populacao\n",
        "\n",
        "df_populacao=df_populacao[['IBGE', 'IBGE7', 'UF', 'Município','População 2010']]\n",
        "df_populacao=df_populacao[df_populacao['UF']=='SP']\n",
        "df_populacao\n",
        "\n",
        "df_populacao_spark = spark.createDataFrame(df_populacao, schema=schema)\n",
        "\n",
        "# df_populacao_spark.write.csv('df_populacao.csv', header=True, mode='overwrite')\n",
        "\n",
        "df_populacao_spark.show()\n"
      ],
      "metadata": {
        "colab": {
          "base_uri": "https://localhost:8080/"
        },
        "id": "aZVPTI7KgHxf",
        "outputId": "c19e3e71-b527-4ab3-a86a-0969434a0419"
      },
      "execution_count": 4,
      "outputs": [
        {
          "output_type": "stream",
          "name": "stdout",
          "text": [
            "+------+-------+---+--------------------+--------+\n",
            "|  IBGE|  IBGE7| UF|           Município|pop_2010|\n",
            "+------+-------+---+--------------------+--------+\n",
            "|350010|3500105| SP|          Adamantina| 33797.0|\n",
            "|350020|3500204| SP|              Adolfo|  3557.0|\n",
            "|350030|3500303| SP|               Aguaí| 32148.0|\n",
            "|350040|3500402| SP|      Águas da Prata|  7584.0|\n",
            "|350050|3500501| SP|    Águas de Lindóia| 17266.0|\n",
            "|350055|3500550| SP|Águas de Santa Bá...|  5601.0|\n",
            "|350060|3500600| SP|  Águas de São Pedro|  2707.0|\n",
            "|350070|3500709| SP|              Agudos| 34524.0|\n",
            "|350075|3500758| SP|            Alambari|  4884.0|\n",
            "|350080|3500808| SP|   Alfredo Marcondes|  3891.0|\n",
            "|350090|3500907| SP|              Altair|  3815.0|\n",
            "|350100|3501004| SP|         Altinópolis| 15607.0|\n",
            "|350110|3501103| SP|         Alto Alegre|  4102.0|\n",
            "|350115|3501152| SP|            Alumínio| 16839.0|\n",
            "|350120|3501202| SP|    Álvares Florence|  3897.0|\n",
            "|350130|3501301| SP|     Álvares Machado| 23513.0|\n",
            "|350140|3501400| SP|  Álvaro de Carvalho|  4650.0|\n",
            "|350150|3501509| SP|         Alvinlândia|  3000.0|\n",
            "|350160|3501608| SP|           Americana|210638.0|\n",
            "|350170|3501707| SP| Américo Brasiliense| 34478.0|\n",
            "+------+-------+---+--------------------+--------+\n",
            "only showing top 20 rows\n",
            "\n"
          ]
        }
      ]
    },
    {
      "cell_type": "markdown",
      "source": [
        "# Completamos a tabela de população com dados mais atuais obtidos da API."
      ],
      "metadata": {
        "id": "W899lunAK2aO"
      }
    },
    {
      "cell_type": "code",
      "source": [
        "# Criar um df em branco\n",
        "schema = StructType([\n",
        "    StructField(\"municipio_id\", StringType(), True),\n",
        "    StructField(\"nome\", StringType(), True),\n",
        "    StructField(\"pop_2011\", StringType(), True),\n",
        "    StructField(\"pop_2012\", StringType(), True),\n",
        "    StructField(\"pop_2013\", StringType(), True),\n",
        "    StructField(\"pop_2014\", StringType(), True),\n",
        "    StructField(\"pop_2015\", StringType(), True),\n",
        "    StructField(\"pop_2016\", StringType(), True),\n",
        "    StructField(\"pop_2017\", StringType(), True),\n",
        "    StructField(\"pop_2018\", StringType(), True),\n",
        "    StructField(\"pop_2019\", StringType(), True),\n",
        "    StructField(\"pop_2020\", StringType(), True),\n",
        "    StructField(\"pop_2021\", StringType(), True)\n",
        "])\n",
        "\n",
        "df_pop = spark.createDataFrame((), schema=schema)\n",
        "for uf in ufs:\n",
        "  link='https://servicodados.ibge.gov.br/api/v3/agregados/6579/periodos/2010-2021/variaveis/9324?localidades=N6[N3[35]]'\n",
        "  print(link)\n",
        "  resp = requests.get(link)\n",
        "  if resp.status_code == 200:\n",
        "      data = resp.json()\n",
        "      # pprint.pprint(data)\n",
        "      for item in data[0]['resultados'][0]['series']:\n",
        "          df_pop = df_pop.union(\n",
        "              spark.createDataFrame([(item['localidade']['id'], item['localidade']['nome'],  item['serie']['2011'],\n",
        "                                      item['serie']['2012'],item['serie']['2013'],item['serie']['2014'],item['serie']['2015'],\n",
        "                                      item['serie']['2016'],item['serie']['2017'],item['serie']['2018'],item['serie']['2019'],\n",
        "                                      item['serie']['2020'],item['serie']['2021'])],\n",
        "                                    schema=schema))\n",
        "  else:\n",
        "    print('Link não disponível')\n",
        "\n",
        "conv_a_flot = [\"pop_2011\", \"pop_2012\", \"pop_2013\", \"pop_2014\", \"pop_2015\", \"pop_2016\", \"pop_2017\", \"pop_2018\", \"pop_2019\", \"pop_2020\", \"pop_2021\"]\n",
        "for coluna in conv_a_flot:\n",
        "    df_pop = df_pop.withColumn(coluna, col(coluna).cast(FloatType()))\n",
        "\n",
        "\n",
        "df_pop.show()"
      ],
      "metadata": {
        "colab": {
          "base_uri": "https://localhost:8080/"
        },
        "id": "Yc0oQxpfcWUz",
        "outputId": "bb4689a4-e99b-41a9-e172-1c66abfff050"
      },
      "execution_count": 5,
      "outputs": [
        {
          "output_type": "stream",
          "name": "stdout",
          "text": [
            "https://servicodados.ibge.gov.br/api/v3/agregados/6579/periodos/2010-2021/variaveis/9324?localidades=N6[N3[35]]\n",
            "+------------+--------------------+--------+--------+--------+--------+--------+--------+--------+--------+--------+--------+--------+\n",
            "|municipio_id|                nome|pop_2011|pop_2012|pop_2013|pop_2014|pop_2015|pop_2016|pop_2017|pop_2018|pop_2019|pop_2020|pop_2021|\n",
            "+------------+--------------------+--------+--------+--------+--------+--------+--------+--------+--------+--------+--------+--------+\n",
            "|     3500105|     Adamantina - SP| 33821.0| 33843.0| 34953.0| 35001.0| 35048.0| 35094.0| 35139.0| 35023.0| 35068.0| 35111.0| 35153.0|\n",
            "|     3500204|         Adolfo - SP|  3548.0|  3538.0|  3639.0|  3631.0|  3623.0|  3616.0|  3609.0|  3571.0|  3562.0|  3554.0|  3545.0|\n",
            "|     3500303|          Aguaí - SP| 32452.0| 32745.0| 34188.0| 34530.0| 34863.0| 35189.0| 35508.0| 35954.0| 36305.0| 36648.0| 36981.0|\n",
            "|     3500402| Águas da Prata - SP|  7619.0|  7653.0|  7942.0|  7984.0|  8025.0|  8065.0|  8104.0|  8137.0|  8180.0|  8221.0|  8262.0|\n",
            "|     3500501|Águas de Lindóia ...| 17354.0| 17438.0| 18108.0| 18212.0| 18313.0| 18412.0| 18509.0| 18599.0| 18705.0| 18808.0| 18908.0|\n",
            "|     3500550|Águas de Santa Bá...|  5630.0|  5658.0|  5876.0|  5911.0|  5944.0|  5977.0|  6009.0|  6040.0|  6075.0|  6109.0|  6142.0|\n",
            "|     3500600|Águas de São Pedr...|  2771.0|  2832.0|  3004.0|  3073.0|  3139.0|  3205.0|  3268.0|  3380.0|  3451.0|  3521.0|  3588.0|\n",
            "|     3500709|         Agudos - SP| 34681.0| 34833.0| 36150.0| 36339.0| 36524.0| 36704.0| 36880.0| 37023.0| 37214.0| 37401.0| 37582.0|\n",
            "|     3500758|       Alambari - SP|  4979.0|  5071.0|  5356.0|  5460.0|  5560.0|  5658.0|  5754.0|  5918.0|  6025.0|  6129.0|  6231.0|\n",
            "|     3500808|Alfredo Marcondes...|  3906.0|  3921.0|  4064.0|  4083.0|  4101.0|  4118.0|  4135.0|  4147.0|  4166.0|  4184.0|  4201.0|\n",
            "|     3500907|         Altair - SP|  3837.0|  3859.0|  4010.0|  4035.0|  4060.0|  4085.0|  4109.0|  4134.0|  4160.0|  4186.0|  4211.0|\n",
            "|     3501004|    Altinópolis - SP| 15617.0| 15627.0| 16137.0| 16159.0| 16179.0| 16199.0| 16219.0| 16164.0| 16184.0| 16203.0| 16221.0|\n",
            "|     3501103|    Alto Alegre - SP|  4090.0|  4078.0|  4193.0|  4183.0|  4173.0|  4164.0|  4154.0|  4110.0|  4099.0|  4088.0|  4078.0|\n",
            "|     3501152|       Alumínio - SP| 16961.0| 17079.0| 17784.0| 17924.0| 18061.0| 18194.0| 18324.0| 18484.0| 18628.0| 18767.0| 18903.0|\n",
            "|     3501202|Álvares Florence ...|  3865.0|  3834.0|  3915.0|  3883.0|  3853.0|  3824.0|  3795.0|  3712.0|  3679.0|  3647.0|  3616.0|\n",
            "|     3501301|Álvares Machado - SP| 23579.0| 23642.0| 24482.0| 24568.0| 24651.0| 24733.0| 24813.0| 24830.0| 24915.0| 24998.0| 25078.0|\n",
            "|     3501400|Álvaro de Carvalh...|  4692.0|  4732.0|  4937.0|  4984.0|  5030.0|  5075.0|  5119.0|  5179.0|  5227.0|  5274.0|  5320.0|\n",
            "|     3501509|    Alvinlândia - SP|  3013.0|  3025.0|  3137.0|  3153.0|  3168.0|  3182.0|  3196.0|  3206.0|  3222.0|  3237.0|  3251.0|\n",
            "|     3501608|      Americana - SP|212791.0|214873.0|224551.0|226970.0|229322.0|231621.0|233868.0|237112.0|239597.0|242018.0|244370.0|\n",
            "|     3501707|Américo Brasilien...| 34954.0| 35413.0| 37165.0| 37691.0| 38202.0| 38701.0| 39189.0| 39962.0| 40504.0| 41032.0| 41545.0|\n",
            "+------------+--------------------+--------+--------+--------+--------+--------+--------+--------+--------+--------+--------+--------+\n",
            "only showing top 20 rows\n",
            "\n"
          ]
        }
      ]
    },
    {
      "cell_type": "markdown",
      "source": [
        "## Juntamos com a primeira tabela de população."
      ],
      "metadata": {
        "id": "X0SqrF3TK_rG"
      }
    },
    {
      "cell_type": "code",
      "source": [
        "df_populacao_all=df_populacao_spark.join(df_pop,df_populacao_spark.IBGE7==df_pop.municipio_id,how=\"left\")\n",
        "df_populacao_all.show()\n",
        "\n",
        "df_populacao_all_pd=df_populacao_all.toPandas()\n",
        "df_populacao_all_pd.to_excel(\"df_populacao_all.xlsx\")"
      ],
      "metadata": {
        "colab": {
          "base_uri": "https://localhost:8080/"
        },
        "id": "e1MjE5FxcgIw",
        "outputId": "5ddcfc43-6175-40e0-feac-048753ebaa30"
      },
      "execution_count": 6,
      "outputs": [
        {
          "output_type": "stream",
          "name": "stdout",
          "text": [
            "+------+-------+---+--------------------+--------+------------+--------------------+--------+--------+--------+--------+--------+--------+--------+--------+--------+--------+--------+\n",
            "|  IBGE|  IBGE7| UF|           Município|pop_2010|municipio_id|                nome|pop_2011|pop_2012|pop_2013|pop_2014|pop_2015|pop_2016|pop_2017|pop_2018|pop_2019|pop_2020|pop_2021|\n",
            "+------+-------+---+--------------------+--------+------------+--------------------+--------+--------+--------+--------+--------+--------+--------+--------+--------+--------+--------+\n",
            "|350140|3501400| SP|  Álvaro de Carvalho|  4650.0|     3501400|Álvaro de Carvalh...|  4692.0|  4732.0|  4937.0|  4984.0|  5030.0|  5075.0|  5119.0|  5179.0|  5227.0|  5274.0|  5320.0|\n",
            "|350150|3501509| SP|         Alvinlândia|  3000.0|     3501509|    Alvinlândia - SP|  3013.0|  3025.0|  3137.0|  3153.0|  3168.0|  3182.0|  3196.0|  3206.0|  3222.0|  3237.0|  3251.0|\n",
            "|350130|3501301| SP|     Álvares Machado| 23513.0|     3501301|Álvares Machado - SP| 23579.0| 23642.0| 24482.0| 24568.0| 24651.0| 24733.0| 24813.0| 24830.0| 24915.0| 24998.0| 25078.0|\n",
            "|350180|3501806| SP|   Américo de Campos|  5706.0|     3501806|Américo de Campos...|  5715.0|  5723.0|  5916.0|  5930.0|  5942.0|  5955.0|  5967.0|  5956.0|  5969.0|  5981.0|  5993.0|\n",
            "|350040|3500402| SP|      Águas da Prata|  7584.0|     3500402| Águas da Prata - SP|  7619.0|  7653.0|  7942.0|  7984.0|  8025.0|  8065.0|  8104.0|  8137.0|  8180.0|  8221.0|  8262.0|\n",
            "|350100|3501004| SP|         Altinópolis| 15607.0|     3501004|    Altinópolis - SP| 15617.0| 15627.0| 16137.0| 16159.0| 16179.0| 16199.0| 16219.0| 16164.0| 16184.0| 16203.0| 16221.0|\n",
            "|350160|3501608| SP|           Americana|210638.0|     3501608|      Americana - SP|212791.0|214873.0|224551.0|226970.0|229322.0|231621.0|233868.0|237112.0|239597.0|242018.0|244370.0|\n",
            "|350110|3501103| SP|         Alto Alegre|  4102.0|     3501103|    Alto Alegre - SP|  4090.0|  4078.0|  4193.0|  4183.0|  4173.0|  4164.0|  4154.0|  4110.0|  4099.0|  4088.0|  4078.0|\n",
            "|350050|3500501| SP|    Águas de Lindóia| 17266.0|     3500501|Águas de Lindóia ...| 17354.0| 17438.0| 18108.0| 18212.0| 18313.0| 18412.0| 18509.0| 18599.0| 18705.0| 18808.0| 18908.0|\n",
            "|350020|3500204| SP|              Adolfo|  3557.0|     3500204|         Adolfo - SP|  3548.0|  3538.0|  3639.0|  3631.0|  3623.0|  3616.0|  3609.0|  3571.0|  3562.0|  3554.0|  3545.0|\n",
            "|350170|3501707| SP| Américo Brasiliense| 34478.0|     3501707|Américo Brasilien...| 34954.0| 35413.0| 37165.0| 37691.0| 38202.0| 38701.0| 39189.0| 39962.0| 40504.0| 41032.0| 41545.0|\n",
            "|350030|3500303| SP|               Aguaí| 32148.0|     3500303|          Aguaí - SP| 32452.0| 32745.0| 34188.0| 34530.0| 34863.0| 35189.0| 35508.0| 35954.0| 36305.0| 36648.0| 36981.0|\n",
            "|350080|3500808| SP|   Alfredo Marcondes|  3891.0|     3500808|Alfredo Marcondes...|  3906.0|  3921.0|  4064.0|  4083.0|  4101.0|  4118.0|  4135.0|  4147.0|  4166.0|  4184.0|  4201.0|\n",
            "|350055|3500550| SP|Águas de Santa Bá...|  5601.0|     3500550|Águas de Santa Bá...|  5630.0|  5658.0|  5876.0|  5911.0|  5944.0|  5977.0|  6009.0|  6040.0|  6075.0|  6109.0|  6142.0|\n",
            "|350060|3500600| SP|  Águas de São Pedro|  2707.0|     3500600|Águas de São Pedr...|  2771.0|  2832.0|  3004.0|  3073.0|  3139.0|  3205.0|  3268.0|  3380.0|  3451.0|  3521.0|  3588.0|\n",
            "|350075|3500758| SP|            Alambari|  4884.0|     3500758|       Alambari - SP|  4979.0|  5071.0|  5356.0|  5460.0|  5560.0|  5658.0|  5754.0|  5918.0|  6025.0|  6129.0|  6231.0|\n",
            "|350115|3501152| SP|            Alumínio| 16839.0|     3501152|       Alumínio - SP| 16961.0| 17079.0| 17784.0| 17924.0| 18061.0| 18194.0| 18324.0| 18484.0| 18628.0| 18767.0| 18903.0|\n",
            "|350010|3500105| SP|          Adamantina| 33797.0|     3500105|     Adamantina - SP| 33821.0| 33843.0| 34953.0| 35001.0| 35048.0| 35094.0| 35139.0| 35023.0| 35068.0| 35111.0| 35153.0|\n",
            "|350070|3500709| SP|              Agudos| 34524.0|     3500709|         Agudos - SP| 34681.0| 34833.0| 36150.0| 36339.0| 36524.0| 36704.0| 36880.0| 37023.0| 37214.0| 37401.0| 37582.0|\n",
            "|350090|3500907| SP|              Altair|  3815.0|     3500907|         Altair - SP|  3837.0|  3859.0|  4010.0|  4035.0|  4060.0|  4085.0|  4109.0|  4134.0|  4160.0|  4186.0|  4211.0|\n",
            "+------+-------+---+--------------------+--------+------------+--------------------+--------+--------+--------+--------+--------+--------+--------+--------+--------+--------+--------+\n",
            "only showing top 20 rows\n",
            "\n"
          ]
        }
      ]
    },
    {
      "cell_type": "markdown",
      "source": [
        "No geral, observa-se um aumento da população, porém os dados mostram uma desaceleração do crecimento da população em 2020 que pode ser causado pela pandemía."
      ],
      "metadata": {
        "id": "4EtYJwS_NxEn"
      }
    },
    {
      "cell_type": "markdown",
      "source": [
        "# Obter o arquivo do IBGE contendo os códigos dos municípios."
      ],
      "metadata": {
        "id": "Js5CgyFTxK_V"
      }
    },
    {
      "cell_type": "code",
      "source": [
        "# Baixar arquivo do IBG contendo os códigos dos municípios\n",
        "link_municipios = 'https://geoftp.ibge.gov.br/organizacao_do_territorio/estrutura_territorial/divisao_territorial/2022/DTB_2022.zip'\n",
        "\n",
        "arquivo_zip = 'DTB_2022.zip'\n",
        "urllib.request.urlretrieve(link_municipios, arquivo_zip)\n",
        "\n",
        "# Extrair arquivos do .zip\n",
        "with zipfile.ZipFile('/content/DTB_2022.zip', 'r') as zip_ref:\n",
        "    zip_ref.extractall('')\n",
        "\n",
        "# Carregar o arquivo excel como um df de pandas\n",
        "path = '/content/RELATORIO_DTB_BRASIL_MUNICIPIO.xls'\n",
        "df_pandas = pd.read_excel(path)\n",
        "# Tirar as primeiras linhas e escolher cabeçalho\n",
        "df_pandas = df_pandas.iloc[5:].reset_index(drop=True)\n",
        "df_pandas.columns = df_pandas.iloc[0]\n",
        "df_pandas = df_pandas.iloc[1:]\n",
        "df_pandas.columns = df_pandas.columns.str.replace(' ', '_')\n",
        "\n",
        "# Converter o df de pandas pra spark\n",
        "df_codmun = spark.createDataFrame(df_pandas)\n",
        "df_codmun = df_codmun.filter(df_codmun.UF == 35)\n",
        "df_codmun = df_codmun.select(col('UF'), col('Nome_UF'),col('Microrregião_Geográfica'),col('Nome_Microrregião'),col('Município'),col('Código_Município_Completo'),col('Nome_Município'))\n",
        "df_codmun.show()\n"
      ],
      "metadata": {
        "colab": {
          "base_uri": "https://localhost:8080/"
        },
        "id": "Mz99Oss5waaz",
        "outputId": "f0cebc79-b849-436b-b0de-aa1c31cfafad"
      },
      "execution_count": 7,
      "outputs": [
        {
          "output_type": "stream",
          "name": "stdout",
          "text": [
            "WARNING *** OLE2 inconsistency: SSCS size is 0 but SSAT size is non-zero\n",
            "*** No CODEPAGE record, no encoding_override: will use 'iso-8859-1'\n",
            "+---+---------+-----------------------+--------------------+---------+-------------------------+--------------------+\n",
            "| UF|  Nome_UF|Microrregião_Geográfica|   Nome_Microrregião|Município|Código_Município_Completo|      Nome_Município|\n",
            "+---+---------+-----------------------+--------------------+---------+-------------------------+--------------------+\n",
            "| 35|São Paulo|                    035|          Adamantina|    00105|                  3500105|          Adamantina|\n",
            "| 35|São Paulo|                    004|São José do Rio P...|    00204|                  3500204|              Adolfo|\n",
            "| 35|São Paulo|                    029|        Pirassununga|    00303|                  3500303|               Aguaí|\n",
            "| 35|São Paulo|                    030|São João da Boa V...|    00402|                  3500402|      Águas da Prata|\n",
            "| 35|São Paulo|                    033|              Amparo|    00501|                  3500501|    Águas de Lindóia|\n",
            "| 35|São Paulo|                    022|               Avaré|    00550|                  3500550|Águas de Santa Bá...|\n",
            "| 35|São Paulo|                    028|          Piracicaba|    00600|                  3500600|  Águas de São Pedro|\n",
            "| 35|São Paulo|                    020|               Bauru|    00709|                  3500709|              Agudos|\n",
            "| 35|São Paulo|                    042|        Itapetininga|    00758|                  3500758|            Alambari|\n",
            "| 35|São Paulo|                    036| Presidente Prudente|    00808|                  3500808|   Alfredo Marcondes|\n",
            "| 35|São Paulo|                    004|São José do Rio P...|    00907|                  3500907|              Altair|\n",
            "| 35|São Paulo|                    015|            Batatais|    01004|                  3501004|         Altinópolis|\n",
            "| 35|São Paulo|                    018|             Birigui|    01103|                  3501103|         Alto Alegre|\n",
            "| 35|São Paulo|                    046|            Sorocaba|    01152|                  3501152|            Alumínio|\n",
            "| 35|São Paulo|                    003|         Votuporanga|    01202|                  3501202|    Álvares Florence|\n",
            "| 35|São Paulo|                    036| Presidente Prudente|    01301|                  3501301|     Álvares Machado|\n",
            "| 35|São Paulo|                    038|             Marília|    01400|                  3501400|  Álvaro de Carvalho|\n",
            "| 35|São Paulo|                    038|             Marília|    01509|                  3501509|         Alvinlândia|\n",
            "| 35|São Paulo|                    032|            Campinas|    01608|                  3501608|           Americana|\n",
            "| 35|São Paulo|                    024|          Araraquara|    01707|                  3501707| Américo Brasiliense|\n",
            "+---+---------+-----------------------+--------------------+---------+-------------------------+--------------------+\n",
            "only showing top 20 rows\n",
            "\n"
          ]
        }
      ]
    },
    {
      "cell_type": "markdown",
      "source": [
        "## Obter também uma tabela com informação complementar dos distritos e localidades."
      ],
      "metadata": {
        "id": "N12vYhO4Lh8l"
      }
    },
    {
      "cell_type": "code",
      "source": [
        "\n",
        "link = 'https://servicodados.ibge.gov.br/api/v1/localidades/distritos'\n",
        "response = requests.get(link)\n",
        "\n",
        "if response.status_code == 200:\n",
        "    data = response.json()\n",
        "    df_distritos = spark.read.json(spark.sparkContext.parallelize([data]))\n",
        "    # df_distritos.show()\n",
        "    num_rows = df_distritos.count()\n",
        "    print(\"Linhas:\", num_rows)\n",
        "else:\n",
        "    print(\"Falha ao trazer os dados:\", response.status_code)\n",
        "\n",
        "df_distritos = df_distritos.withColumn(\"municipio_id\", col(\"municipio.id\")) \\\n",
        "    .withColumn(\"municipio_nome\", col(\"municipio.nome\")) \\\n",
        "    .withColumn(\"microrregiao_id\", col(\"municipio.microrregiao.id\")) \\\n",
        "    .withColumn(\"microrregiao_nome\", col(\"municipio.microrregiao.nome\")) \\\n",
        "    .withColumn(\"mesorregiao_id\", col(\"municipio.microrregiao.mesorregiao.id\")) \\\n",
        "    .withColumn(\"mesorregiao_nome\", col(\"municipio.microrregiao.mesorregiao.nome\")) \\\n",
        "    .withColumn(\"UF_id\", col(\"municipio.microrregiao.mesorregiao.UF.id\")) \\\n",
        "    .withColumn(\"UF_sigla\", col(\"municipio.microrregiao.mesorregiao.UF.sigla\")) \\\n",
        "    .withColumn(\"UF_nome\", col(\"municipio.microrregiao.mesorregiao.UF.nome\")) \\\n",
        "    .withColumn(\"regiao_id\", col(\"municipio.microrregiao.mesorregiao.UF.regiao.id\")) \\\n",
        "    .withColumn(\"regiao_sigla\", col(\"municipio.microrregiao.mesorregiao.UF.regiao.sigla\")) \\\n",
        "    .withColumn(\"regiao_nome\", col(\"municipio.microrregiao.mesorregiao.UF.regiao.nome\"))\n",
        "df_distritos = df_distritos.drop(\"municipio\")\n",
        "df_distritos.show()"
      ],
      "metadata": {
        "colab": {
          "base_uri": "https://localhost:8080/"
        },
        "id": "U7_ceFL5UiZI",
        "outputId": "215b3ea4-5756-46e1-edda-3aec722b360e"
      },
      "execution_count": 8,
      "outputs": [
        {
          "output_type": "stream",
          "name": "stdout",
          "text": [
            "Linhas: 10670\n",
            "+---------+--------------------+------------+-------------------+---------------+-------------------+--------------+--------------------+-----+--------+--------------+---------+------------+------------+\n",
            "|       id|                nome|municipio_id|     municipio_nome|microrregiao_id|  microrregiao_nome|mesorregiao_id|    mesorregiao_nome|UF_id|UF_sigla|       UF_nome|regiao_id|regiao_sigla| regiao_nome|\n",
            "+---------+--------------------+------------+-------------------+---------------+-------------------+--------------+--------------------+-----+--------+--------------+---------+------------+------------+\n",
            "|520005005|     Abadia de Goiás|     5200050|    Abadia de Goiás|          52010|            Goiânia|          5203|       Centro Goiano|   52|      GO|         Goiás|        5|          CO|Centro-Oeste|\n",
            "|310010405| Abadia dos Dourados|     3100104|Abadia dos Dourados|          31019|         Patrocínio|          3105|Triângulo Mineiro...|   31|      MG|  Minas Gerais|        3|          SE|     Sudeste|\n",
            "|520010005|           Abadiânia|     5200100|          Abadiânia|          52012|Entorno de Brasília|          5204|        Leste Goiano|   52|      GO|         Goiás|        5|          CO|Centro-Oeste|\n",
            "|520010010|      Posse d'Abadia|     5200100|          Abadiânia|          52012|Entorno de Brasília|          5204|        Leste Goiano|   52|      GO|         Goiás|        5|          CO|Centro-Oeste|\n",
            "|310020305|              Abaeté|     3100203|             Abaeté|          31024|        Três Marias|          3106|     Central Mineira|   31|      MG|  Minas Gerais|        3|          SE|     Sudeste|\n",
            "|150010705|          Abaetetuba|     1500107|         Abaetetuba|          15011|             Cametá|          1504|   Nordeste Paraense|   15|      PA|          Pará|        1|           N|       Norte|\n",
            "|150010710|                Beja|     1500107|         Abaetetuba|          15011|             Cametá|          1504|   Nordeste Paraense|   15|      PA|          Pará|        1|           N|       Norte|\n",
            "|230010105|             Abaiara|     2300101|            Abaiara|          23033|        Brejo Santo|          2307|        Sul Cearense|   23|      CE|         Ceará|        2|          NE|    Nordeste|\n",
            "|230010120|            São José|     2300101|            Abaiara|          23033|        Brejo Santo|          2307|        Sul Cearense|   23|      CE|         Ceará|        2|          NE|    Nordeste|\n",
            "|230010125|               Oitis|     2300101|            Abaiara|          23033|        Brejo Santo|          2307|        Sul Cearense|   23|      CE|         Ceará|        2|          NE|    Nordeste|\n",
            "|230010130|           Triângulo|     2300101|            Abaiara|          23033|        Brejo Santo|          2307|        Sul Cearense|   23|      CE|         Ceará|        2|          NE|    Nordeste|\n",
            "|230010135|Olho D'Água de Pe...|     2300101|            Abaiara|          23033|        Brejo Santo|          2307|        Sul Cearense|   23|      CE|         Ceará|        2|          NE|    Nordeste|\n",
            "|290010805|              Abaíra|     2900108|             Abaíra|          29023|             Seabra|          2906|   Centro Sul Baiano|   29|      BA|         Bahia|        2|          NE|    Nordeste|\n",
            "|290010810|             Catolés|     2900108|             Abaíra|          29023|             Seabra|          2906|   Centro Sul Baiano|   29|      BA|         Bahia|        2|          NE|    Nordeste|\n",
            "|290020705|               Abaré|     2900207|              Abaré|          29005|       Paulo Afonso|          2902|Vale São-Francisc...|   29|      BA|         Bahia|        2|          NE|    Nordeste|\n",
            "|290020710|                 Ibó|     2900207|              Abaré|          29005|       Paulo Afonso|          2902|Vale São-Francisc...|   29|      BA|         Bahia|        2|          NE|    Nordeste|\n",
            "|410010305|              Abatiá|     4100103|             Abatiá|          41015|  Cornélio Procópio|          4104|Norte Pioneiro Pa...|   41|      PR|        Paraná|        4|           S|         Sul|\n",
            "|420005105|       Abdon Batista|     4200051|      Abdon Batista|          42009|        Curitibanos|          4203|             Serrana|   42|      SC|Santa Catarina|        4|           S|         Sul|\n",
            "|150013105|     Abel Figueiredo|     1500131|    Abel Figueiredo|          15017|        Paragominas|          1506|    Sudeste Paraense|   15|      PA|          Pará|        1|           N|       Norte|\n",
            "|420010105|        Abelardo Luz|     4200101|       Abelardo Luz|          42003|            Xanxerê|          4201|   Oeste Catarinense|   42|      SC|Santa Catarina|        4|           S|         Sul|\n",
            "+---------+--------------------+------------+-------------------+---------------+-------------------+--------------+--------------------+-----+--------+--------------+---------+------------+------------+\n",
            "only showing top 20 rows\n",
            "\n"
          ]
        }
      ]
    },
    {
      "cell_type": "code",
      "source": [
        "# df_distritos.show(truncate=False)\n",
        "df_distritos_filtrado = df_distritos.filter(df_distritos.UF_id == 35)\n",
        "\n",
        "df_distritos_filtrado_pd=df_distritos_filtrado.toPandas()\n",
        "df_distritos_filtrado_pd.to_excel(\"df_distritos_filtrado.xlsx\")\n",
        "\n",
        "# df_codmun_filtrado.show()"
      ],
      "metadata": {
        "id": "IH3C27K8apYZ"
      },
      "execution_count": 9,
      "outputs": []
    },
    {
      "cell_type": "markdown",
      "source": [
        "# Obter dados do PIB 2021 da API para os municípios de São Paulo"
      ],
      "metadata": {
        "id": "fd2pEd_a7gZr"
      }
    },
    {
      "cell_type": "code",
      "source": [
        "# Criar um df em branco\n",
        "schema = StructType([\n",
        "    StructField(\"municipio_id\", StringType(), True),\n",
        "    StructField(\"nome\", StringType(), True),\n",
        "    StructField(\"pib_2010\", StringType(), True),\n",
        "    StructField(\"pib_2011\", StringType(), True),\n",
        "    StructField(\"pib_2012\", StringType(), True),\n",
        "    StructField(\"pib_2013\", StringType(), True),\n",
        "    StructField(\"pib_2014\", StringType(), True),\n",
        "    StructField(\"pib_2015\", StringType(), True),\n",
        "    StructField(\"pib_2016\", StringType(), True),\n",
        "    StructField(\"pib_2017\", StringType(), True),\n",
        "    StructField(\"pib_2018\", StringType(), True),\n",
        "    StructField(\"pib_2019\", StringType(), True),\n",
        "    StructField(\"pib_2020\", StringType(), True),\n",
        "    StructField(\"pib_2021\", StringType(), True)\n",
        "])\n",
        "\n",
        "df_pib = spark.createDataFrame((), schema=schema)\n",
        "for uf in ufs:\n",
        "  link = 'https://servicodados.ibge.gov.br/api/v3/agregados/5938/periodos/2010-2021/variaveis/37?localidades=N6[N3[35]]'\n",
        "  print(link)\n",
        "  resp = requests.get(link)\n",
        "  if resp.status_code == 200:\n",
        "      data = resp.json()\n",
        "      # pprint.pprint(data)\n",
        "      for item in data[0]['resultados'][0]['series']:\n",
        "          df_pib = df_pib.union(\n",
        "              spark.createDataFrame([(item['localidade']['id'], item['localidade']['nome'], item['serie']['2010'], item['serie']['2011'],\n",
        "                                      item['serie']['2012'],item['serie']['2013'],item['serie']['2014'],item['serie']['2015'],\n",
        "                                      item['serie']['2016'],item['serie']['2017'],item['serie']['2018'],item['serie']['2019'],\n",
        "                                      item['serie']['2020'],item['serie']['2021'])],\n",
        "                                    schema=schema))\n",
        "  else:\n",
        "    print('Link não disponível')\n",
        "\n",
        "df_pib_pd=df_pib.toPandas()\n",
        "df_pib_pd.to_excel(\"df_pib.xlsx\")\n",
        "\n",
        "df_pib.show()"
      ],
      "metadata": {
        "colab": {
          "base_uri": "https://localhost:8080/"
        },
        "id": "oUNByEXixdwI",
        "outputId": "87b40366-576a-42ce-99f1-788ce6f19280"
      },
      "execution_count": 10,
      "outputs": [
        {
          "output_type": "stream",
          "name": "stdout",
          "text": [
            "https://servicodados.ibge.gov.br/api/v3/agregados/5938/periodos/2010-2021/variaveis/37?localidades=N6[N3[35]]\n",
            "+------------+--------------------+--------+--------+--------+--------+--------+--------+--------+--------+--------+--------+--------+--------+\n",
            "|municipio_id|                nome|pib_2010|pib_2011|pib_2012|pib_2013|pib_2014|pib_2015|pib_2016|pib_2017|pib_2018|pib_2019|pib_2020|pib_2021|\n",
            "+------------+--------------------+--------+--------+--------+--------+--------+--------+--------+--------+--------+--------+--------+--------+\n",
            "|     3500105|     Adamantina - SP|  639091|  683689|  743684|  815579|  862889| 1059097|  979976| 1040824| 1070910| 1191134| 1243768| 1370866|\n",
            "|     3500204|         Adolfo - SP|   61059|   68414|   53200|   73529|   76848|   73709|   91756|  100915|   92203|  112493|  136758|  115490|\n",
            "|     3500303|          Aguaí - SP|  549175|  573702|  568190|  660870|  770055|  670060|  895632|  955578|  972613| 1046725| 1143458| 1314737|\n",
            "|     3500402| Águas da Prata - SP|   96964|   89260|  101170|  111413|  131446|  137018|  136636|  154592|  166764|  172428|  186999|  209004|\n",
            "|     3500501|Águas de Lindóia ...|  233684|  267589|  279456|  351799|  372727|  470270|  440355|  475745|  490463|  530696|  492385|  585604|\n",
            "|     3500550|Águas de Santa Bá...|  132255|  139132|   95593|  114127|  126869|  121031|  152567|  150486|  166832|  174587|  200451|  217296|\n",
            "|     3500600|Águas de São Pedr...|   69352|   71429|   81883|   96809|  119776|  125313|  120017|  132809|  135911|  146025|  136433|  147855|\n",
            "|     3500709|         Agudos - SP| 1736271| 1742627| 1928539| 1900412| 2106853| 2645423| 1932769| 2047051| 2202017| 2146823| 2308691| 2638623|\n",
            "|     3500758|       Alambari - SP|   61603|   61385|   60505|   70363|   71305|   84653|   92039|  102850|   98483|  105393|  121302|  129390|\n",
            "|     3500808|Alfredo Marcondes...|   36694|   38980|   53293|   65727|   73664|   71689|   77926|   80860|   83078|   87021|  111138|  120355|\n",
            "|     3500907|         Altair - SP|   74902|   86739|   92633|   96738|   97910|   85716|  203611|  212223|  106769|   90689|  111753|  112274|\n",
            "|     3501004|    Altinópolis - SP|  255322|  263716|  280647|  336157|  392018|  381301|  458578|  524962|  497041|  536419|  654362|  833396|\n",
            "|     3501103|    Alto Alegre - SP|   59056|   67012|   80153|   73091|   91570|   78879|  100770|  111220|  106184|  121525|  116734|  113585|\n",
            "|     3501152|       Alumínio - SP| 1566535| 1720269| 1659873| 1532864| 1528816| 1804697| 1869772| 1859450| 2104874| 2306521| 2287257| 3982313|\n",
            "|     3501202|Álvares Florence ...|   92978|   95906|  111830|   97665|   86535|   87967|   94428|  105675|  119675|  101240|  112203|  124351|\n",
            "|     3501301|Álvares Machado - SP|  236566|  272413|  314146|  359821|  400221|  419928|  475541|  522754|  530826|  547949|  618885|  709876|\n",
            "|     3501400|Álvaro de Carvalh...|   30121|   40786|   37634|   36456|   39705|   47190|   48322|   50876|   49844|   50648|   53435|   58586|\n",
            "|     3501509|    Alvinlândia - SP|   31246|   29648|   34571|   39182|   41182|   42406|   45576|   64455|   51885|   50661|   57564|   58405|\n",
            "|     3501608|      Americana - SP| 7236090| 8616510| 8758084|10085142|10305235| 9882075|10435437|10984203|11340521|11861436|11956361|15217280|\n",
            "|     3501707|Américo Brasilien...|  459375|  502124|  538861|  651115|  697994|  759582|  827779|  981226|  832952|  952230| 1081155| 1230444|\n",
            "+------------+--------------------+--------+--------+--------+--------+--------+--------+--------+--------+--------+--------+--------+--------+\n",
            "only showing top 20 rows\n",
            "\n"
          ]
        }
      ]
    },
    {
      "cell_type": "markdown",
      "source": [
        "Após carregar as tabelas o modelo de dados ficaria:\n",
        "\n",
        "IDH['localidade']->POPULACAO['IBGE']\n",
        "\n",
        "POPULACAO['IBGE7']->LOCALIDADE['municipio_id']\n",
        "\n",
        "\n",
        "LOCALIDADE['municipio_id']->PIB['municipio_id']\n",
        "\n",
        "\n",
        "![image.png](data:image/png;base64,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)\n",
        "\n",
        "\n",
        "\n",
        "\n",
        "\n",
        "\n",
        "\n",
        "\n"
      ],
      "metadata": {
        "id": "iTmHIxcaGzRD"
      }
    },
    {
      "cell_type": "markdown",
      "source": [
        "Criaremos um dashboard em Power BI para comprovar o crescimento do PIB , da população e do IDH dos 20 municípios no estado de São Paulo com maior PIB em 2021."
      ],
      "metadata": {
        "id": "bVJs_WrbOI2j"
      }
    },
    {
      "cell_type": "code",
      "source": [],
      "metadata": {
        "id": "DHQRrU1gMrWj"
      },
      "execution_count": 10,
      "outputs": []
    }
  ]
}
